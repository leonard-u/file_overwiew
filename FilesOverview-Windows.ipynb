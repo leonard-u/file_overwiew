{
 "cells": [
  {
   "cell_type": "code",
   "execution_count": null,
   "id": "d1446d30",
   "metadata": {},
   "outputs": [],
   "source": [
    "# import necessary libraries\n",
    "import pandas as pd\n",
    "import os\n",
    "import glob\n",
    "  \n",
    "  \n",
    "# use glob to get all the csv files\n",
    "# in the folder\n",
    "os.getcwd()\n"
   ]
  },
  {
   "cell_type": "code",
   "execution_count": null,
   "id": "b01960da",
   "metadata": {},
   "outputs": [],
   "source": [
    "# import necessary libraries\n",
    "import pandas as pd\n",
    "import os\n",
    "import glob\n",
    "  \n",
    "  \n",
    "# use glob to get all the csv files\n",
    "# in the folder\n",
    "path = os.getcwd()\n",
    "csv_files = glob.glob(os.path.join(path, \"*.xlsx\"))\n",
    "  \n",
    "  \n",
    "# loop over the list of csv files\n",
    "for f in csv_files:\n",
    "    \n",
    "    # read the csv file\n",
    "    df = pd.read_excel(f)\n",
    "      \n",
    "    # print the location and filename\n",
    "    print('Location:', f)\n",
    "    print('File Name:', f.split(\"\\\\\")[-1])\n",
    "      \n",
    "    # print the content\n",
    "    print('Content:')\n",
    "    display(df)\n",
    "    print()"
   ]
  },
  {
   "cell_type": "code",
   "execution_count": null,
   "id": "86bd5f7f",
   "metadata": {
    "scrolled": true
   },
   "outputs": [],
   "source": [
    "filelist = [] \n",
    "counter = 0\n",
    "print(\"If you want all the excel file, for example write .xlsx\")\n",
    "input_manuell= False\n",
    "inp='.xlsx'\n",
    "if input_manuell:\n",
    "    inp = input(\"What are you looking for?:> \")\n",
    "thisdir = os.getcwd()\n",
    "for r, d, f in os.walk(\"C:\\\\\"): # change the hard drive, if you want\n",
    "    for file in f:\n",
    "        filepath = os.path.join(r, file)\n",
    "        if inp in file:\n",
    "            print(filepath)\n",
    "            counter += 1\n",
    "            print(os.path.join(r, file))\n",
    "            filelist.append((os.path.join(r, file),file))\n",
    "            \n",
    "print(f\"found {counter} files.\")"
   ]
  },
  {
   "cell_type": "code",
   "execution_count": null,
   "id": "cca950e1",
   "metadata": {},
   "outputs": [],
   "source": [
    "len(filelist)"
   ]
  },
  {
   "cell_type": "code",
   "execution_count": null,
   "id": "a31d868b",
   "metadata": {
    "scrolled": true
   },
   "outputs": [],
   "source": [
    "for file in filelist:\n",
    "    print(file)"
   ]
  },
  {
   "cell_type": "code",
   "execution_count": null,
   "id": "6b98f107",
   "metadata": {},
   "outputs": [],
   "source": [
    "with open('xlsx_files.txt', 'w+', encoding=\"utf-8\") as f:\n",
    "    for file_tuple in filelist:\n",
    "        f.write('\\t'.join(file_tuple))\n",
    "        f.write('\\n')"
   ]
  }
 ],
 "metadata": {
  "interpreter": {
   "hash": "ac59ebe37160ed0dfa835113d9b8498d9f09ceb179beaac4002f036b9467c963"
  },
  "kernelspec": {
   "display_name": "Python 3",
   "language": "python",
   "name": "python3"
  },
  "language_info": {
   "codemirror_mode": {
    "name": "ipython",
    "version": 3
   },
   "file_extension": ".py",
   "mimetype": "text/x-python",
   "name": "python",
   "nbconvert_exporter": "python",
   "pygments_lexer": "ipython3",
   "version": "3.8.5"
  }
 },
 "nbformat": 4,
 "nbformat_minor": 5
}
